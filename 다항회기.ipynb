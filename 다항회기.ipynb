{
  "nbformat": 4,
  "nbformat_minor": 0,
  "metadata": {
    "colab": {
      "name": "다항회기.ipynb",
      "provenance": [],
      "authorship_tag": "ABX9TyMj/JPbIdBXq27lupEKIB7Z",
      "include_colab_link": true
    },
    "kernelspec": {
      "name": "python3",
      "display_name": "Python 3"
    }
  },
  "cells": [
    {
      "cell_type": "markdown",
      "metadata": {
        "id": "view-in-github",
        "colab_type": "text"
      },
      "source": [
        "<a href=\"https://colab.research.google.com/github/YoonHyeJu/Python_ML_Guide/blob/master/%EB%8B%A4%ED%95%AD%ED%9A%8C%EA%B8%B0.ipynb\" target=\"_parent\"><img src=\"https://colab.research.google.com/assets/colab-badge.svg\" alt=\"Open In Colab\"/></a>"
      ]
    },
    {
      "cell_type": "code",
      "metadata": {
        "id": "mGlwzYWExd3n"
      },
      "source": [
        "from sklearn.preprocessing import PolynomialFeatures\n",
        "from sklearn.linear_model import LinearRegression\n",
        "import numpy as np"
      ],
      "execution_count": 10,
      "outputs": []
    },
    {
      "cell_type": "code",
      "metadata": {
        "id": "bfTfIxIMxqTU",
        "outputId": "a2c87ba4-bfe2-4bf9-dc97-498d670f88c5",
        "colab": {
          "base_uri": "https://localhost:8080/",
          "height": 70
        }
      },
      "source": [
        "# 다항식으로 변환한 단항식 생성, [[0,1], [2,3]]의 2X2 행렬 생성\n",
        "X = np.arange(4).reshape(2,2)\n",
        "print('일차 단항식 계수 피처: \\n', X)"
      ],
      "execution_count": 2,
      "outputs": [
        {
          "output_type": "stream",
          "text": [
            "일차 단항식 계수 피처: \n",
            " [[0 1]\n",
            " [2 3]]\n"
          ],
          "name": "stdout"
        }
      ]
    },
    {
      "cell_type": "code",
      "metadata": {
        "id": "Ar_KNbwrx52Z"
      },
      "source": [
        "# degree=2인 2차 다항식으로 변환하기 위해 PolynomialFeatures를 이용해 변환\n",
        "poly = PolynomialFeatures(degree=2)\n",
        "poly.fit(X)\n",
        "poly_ftr = poly.transform(X)"
      ],
      "execution_count": 3,
      "outputs": []
    },
    {
      "cell_type": "code",
      "metadata": {
        "id": "6UcE3VuwyTyW",
        "outputId": "b8beb77f-165d-42ea-b499-1de633a02e9b",
        "colab": {
          "base_uri": "https://localhost:8080/",
          "height": 70
        }
      },
      "source": [
        "print('변환된 2차 다항식 계수 피처:\\n', poly_ftr)"
      ],
      "execution_count": 4,
      "outputs": [
        {
          "output_type": "stream",
          "text": [
            "변환된 2차 다항식 계수 피처:\n",
            " [[1. 0. 1. 0. 0. 1.]\n",
            " [1. 2. 3. 4. 6. 9.]]\n"
          ],
          "name": "stdout"
        }
      ]
    },
    {
      "cell_type": "code",
      "metadata": {
        "id": "lbW2oSy3yZIH"
      },
      "source": [
        "def polynomial_func(X):\n",
        "    y = 1+2*X[:,0] + 3*X[:,0]**2 + 4*X[:,1]**3\n",
        "    return y  "
      ],
      "execution_count": 5,
      "outputs": []
    },
    {
      "cell_type": "code",
      "metadata": {
        "id": "PewbJx7Iz86R",
        "outputId": "6d758c2a-41ca-4e57-ab16-7920c92efcab",
        "colab": {
          "base_uri": "https://localhost:8080/",
          "height": 105
        }
      },
      "source": [
        "X = np.arange(4).reshape(2,2)\n",
        "print('일차 단항식 계수 feature: \\n', X)\n",
        "y = polynomial_func(X)\n",
        "print('삼차 다항식 결정값: \\n', y)"
      ],
      "execution_count": 6,
      "outputs": [
        {
          "output_type": "stream",
          "text": [
            "일차 단항식 계수 feature: \n",
            " [[0 1]\n",
            " [2 3]]\n",
            "삼차 다항식 결정값: \n",
            " [  5 125]\n"
          ],
          "name": "stdout"
        }
      ]
    },
    {
      "cell_type": "code",
      "metadata": {
        "id": "qH6HrlOH0LJC",
        "outputId": "6e2f1200-1900-4b29-8675-5428d946df75",
        "colab": {
          "base_uri": "https://localhost:8080/",
          "height": 70
        }
      },
      "source": [
        "#3차 다항식 변환\n",
        "poly_ftr = PolynomialFeatures(degree=3).fit_transform(X)\n",
        "print('3차 다항식 계수 feature: \\n', poly_ftr)"
      ],
      "execution_count": 7,
      "outputs": [
        {
          "output_type": "stream",
          "text": [
            "3차 다항식 계수 feature: \n",
            " [[ 1.  0.  1.  0.  0.  1.  0.  0.  0.  1.]\n",
            " [ 1.  2.  3.  4.  6.  9.  8. 12. 18. 27.]]\n"
          ],
          "name": "stdout"
        }
      ]
    },
    {
      "cell_type": "code",
      "metadata": {
        "id": "ttGCCvJb1prt",
        "outputId": "fdf32d00-babe-4f38-9418-2b9b72b547e2",
        "colab": {
          "base_uri": "https://localhost:8080/",
          "height": 34
        }
      },
      "source": [
        "# LinearRegression에 3차 다항식 계수 feature와 3차 다항식 결정값으로 학습 후 회기 계수 확인\n",
        "model = LinearRegression()\n",
        "model.fit(poly_ftr, y)"
      ],
      "execution_count": 11,
      "outputs": [
        {
          "output_type": "execute_result",
          "data": {
            "text/plain": [
              "LinearRegression(copy_X=True, fit_intercept=True, n_jobs=None, normalize=False)"
            ]
          },
          "metadata": {
            "tags": []
          },
          "execution_count": 11
        }
      ]
    },
    {
      "cell_type": "code",
      "metadata": {
        "id": "5O_0yxF818ru",
        "outputId": "80848678-df6e-462d-d936-acb65a6b2689",
        "colab": {
          "base_uri": "https://localhost:8080/",
          "height": 70
        }
      },
      "source": [
        "print('Polynomial 회기 계수\\n', np.round(model.coef_, 2))\n",
        "print('Polynomial 회기 Shape: ', model.coef_.shape)"
      ],
      "execution_count": 12,
      "outputs": [
        {
          "output_type": "stream",
          "text": [
            "Polynomial 회기 계수\n",
            " [0.   0.18 0.18 0.36 0.54 0.72 0.72 1.08 1.62 2.34]\n",
            "Polynomial 회기 Shape:  (10,)\n"
          ],
          "name": "stdout"
        }
      ]
    },
    {
      "cell_type": "markdown",
      "metadata": {
        "id": "sF2YoAI_2xMG"
      },
      "source": [
        "# **사이킷런의 Pipeline을 이용해 한 번에 다항 회기를 구현.**"
      ]
    },
    {
      "cell_type": "code",
      "metadata": {
        "id": "FHOE9iNE2U0M"
      },
      "source": [
        "from sklearn.preprocessing import PolynomialFeatures\n",
        "from sklearn.linear_model import LinearRegression\n",
        "from sklearn.pipeline import Pipeline\n",
        "import numpy as np"
      ],
      "execution_count": 13,
      "outputs": []
    },
    {
      "cell_type": "code",
      "metadata": {
        "id": "PS9xgtpj2-xt"
      },
      "source": [
        "def polynomial_func(X):\n",
        "    y = 1+2*X[:,0] + 3*X[:,0]**2 + 4*X[:,1]**3\n",
        "    return y "
      ],
      "execution_count": 14,
      "outputs": []
    },
    {
      "cell_type": "code",
      "metadata": {
        "id": "l4_61ImT3E7w"
      },
      "source": [
        "# pipeline 객체로 Streamline하게 Polynomial Feature 변환과 Linear Regression을 연결\n",
        "model = Pipeline([('poly', PolynomialFeatures(degree=3)), ('linear', LinearRegression())])\n",
        "X = np.arange(4).reshape(2,2)\n",
        "y = polynomial_func(X)\n",
        "\n",
        "model = model.fit(X,y)"
      ],
      "execution_count": 16,
      "outputs": []
    },
    {
      "cell_type": "code",
      "metadata": {
        "id": "xWL3jNp-3_Yb"
      },
      "source": [
        "# 단항식에서 회기 계수 [1,2,0,3,0,0,0,0,0,4]"
      ],
      "execution_count": 19,
      "outputs": []
    },
    {
      "cell_type": "code",
      "metadata": {
        "id": "hA7RhH6y3pMa",
        "outputId": "186b052b-a001-40fe-b08d-49b6ec62b156",
        "colab": {
          "base_uri": "https://localhost:8080/",
          "height": 52
        }
      },
      "source": [
        "print('Polynomial 회기 계수\\n', np.round(model.named_steps['linear'].coef_,2)) "
      ],
      "execution_count": 17,
      "outputs": [
        {
          "output_type": "stream",
          "text": [
            "Polynomial 회기 계수\n",
            " [0.   0.18 0.18 0.36 0.54 0.72 0.72 1.08 1.62 2.34]\n"
          ],
          "name": "stdout"
        }
      ]
    },
    {
      "cell_type": "markdown",
      "metadata": {
        "id": "MdYoRk2F5sSR"
      },
      "source": [
        "# **과적합 & 과소적합**"
      ]
    },
    {
      "cell_type": "code",
      "metadata": {
        "id": "Ylrcmb-d3697"
      },
      "source": [
        "import numpy as np\n",
        "import matplotlib.pyplot as plt\n",
        "from sklearn.pipeline import Pipeline\n",
        "from sklearn.preprocessing import PolynomialFeatures\n",
        "from sklearn.linear_model import LinearRegression\n",
        "from sklearn.model_selection import cross_val_score\n",
        "%matplotlib inline"
      ],
      "execution_count": 20,
      "outputs": []
    },
    {
      "cell_type": "code",
      "metadata": {
        "id": "Iw4LFV3N6Au0"
      },
      "source": [
        "# 임의의 값으로 구성된 X값에 대해 코사인 변환 값을 반환\n",
        "def true_fun(X):\n",
        "    return np.cos(1.5 * np.pi*X)"
      ],
      "execution_count": 21,
      "outputs": []
    },
    {
      "cell_type": "code",
      "metadata": {
        "id": "jr-k1tRg6Llv"
      },
      "source": [
        "# X는 1~30개의 임의의 값을 순서대로 샘플링한 데이터\n",
        "np.random.seed(0)\n",
        "n_samples = 30\n",
        "X = np.sort(np.random.rand(n_samples))"
      ],
      "execution_count": 22,
      "outputs": []
    },
    {
      "cell_type": "code",
      "metadata": {
        "id": "ZKch1R6v6eD1"
      },
      "source": [
        "#y 값은 코사인 기반의 true_fun에서 약간의 노이즈 변동 값을 더한 값.\n",
        "y = true_fun(X) + np.random.randn(n_samples)*0.1"
      ],
      "execution_count": 24,
      "outputs": []
    },
    {
      "cell_type": "code",
      "metadata": {
        "id": "mcwScgR46pMf",
        "outputId": "cd765eaf-c558-4b63-f2c2-26b84e7a5f66",
        "colab": {
          "base_uri": "https://localhost:8080/",
          "height": 34
        }
      },
      "source": [
        "plt.figure(figsize=(30,5))\n",
        "degrees = [1,4,15]"
      ],
      "execution_count": 32,
      "outputs": [
        {
          "output_type": "display_data",
          "data": {
            "text/plain": [
              "<Figure size 2160x360 with 0 Axes>"
            ]
          },
          "metadata": {
            "tags": []
          }
        }
      ]
    },
    {
      "cell_type": "code",
      "metadata": {
        "id": "lObosJ6q68hj",
        "outputId": "7fc752b0-49b7-490f-996d-e4fbc7059adf",
        "colab": {
          "base_uri": "https://localhost:8080/",
          "height": 506
        }
      },
      "source": [
        "# 다항 회기의 degree를 1,4,15로 각각 변화시키며 비교\n",
        "for i in range(len(degrees)):\n",
        "    ax = plt.subplot(1, len(degrees), i+1)\n",
        "    plt.setp(ax, xticks=(), yticks=())\n",
        "\n",
        "    #개별 degree별로 Polynomial 변환\n",
        "    polynomial_features = PolynomialFeatures(degree=degrees[i], include_bias=False)\n",
        "    linear_regression = LinearRegression()\n",
        "    pipeline = Pipeline([('polynomial_features', polynomial_features), ('linear_regression', linear_regression)])\n",
        "    pipeline.fit(X.reshape(-1,1), y)\n",
        "\n",
        "    # 교차검증으로 다항회기 평가\n",
        "    scores = cross_val_score(pipeline, X.reshape(-1,1), y, scoring=\"neg_mean_squared_error\", cv=10)\n",
        "\n",
        "    #pipeline을 구성하는 세부 객체를 접근하는 named_steps['객체명']을 이용해 회기 계수 추출\n",
        "    coefficients = pipeline.named_steps['linear_regression'].coef_\n",
        "\n",
        "    print('\\nDegree {} 회기 계수는 {} 입니다'.format(degrees[i], np.round(coefficients,2)))\n",
        "    print('Degree {} MSE는 {} 입니다'.format(degrees[i], -1*np.mean(scores)))\n",
        "\n",
        "    # 0부터 1까지 테스트 데이터 세트를 100개로 나눠 예측을 수행\n",
        "    # 테스트 데이트 세트에 회귀 예측을 수행하고 예측 곡선과 실제 곡선을 그려서 비교\n",
        "    X_test = np.linspace(0,1,100)\n",
        "    # 예측값 곡선\n",
        "    plt.plot(X_test, pipeline.predict(X_test[:, np.newaxis]), label=\"Model\")\n",
        "    # 실제 값 곡선\n",
        "    plt.plot(X_test, true_fun(X_test), '--', label=\"True function\")\n",
        "    plt.scatter(X, y, edgecolors='b', s=20, label=\"Samples\")\n",
        "\n",
        "    plt.xlabel(\"x\"); plt.ylabel(\"y\"); plt.xlim((0,1)); plt.ylim((-2,2)); plt.legend(loc=\"best\")\n",
        "    plt.title(\"Degree {}\\n MSE = {:.2f}(+/- {:.2e})\".format(degrees[i], -scores.mean(), scores.std()))\n",
        "\n",
        "plt.show()"
      ],
      "execution_count": 35,
      "outputs": [
        {
          "output_type": "stream",
          "text": [
            "\n",
            "Degree 1 회기 계수는 [-1.61] 입니다\n",
            "Degree 1 MSE는 0.4077289625098685 입니다\n",
            "\n",
            "Degree 4 회기 계수는 [  0.47 -17.79  23.59  -7.26] 입니다\n",
            "Degree 4 MSE는 0.043208749872320706 입니다\n",
            "\n",
            "Degree 15 회기 계수는 [-2.98291000e+03  1.03898770e+05 -1.87415056e+06  2.03715126e+07\n",
            " -1.44872551e+08  7.09311979e+08 -2.47064676e+09  6.24558367e+09\n",
            " -1.15676035e+10  1.56894317e+10 -1.54005437e+10  1.06456871e+10\n",
            " -4.91375763e+09  1.35919168e+09 -1.70380199e+08] 입니다\n",
            "Degree 15 MSE는 180526263.3177066 입니다\n"
          ],
          "name": "stdout"
        },
        {
          "output_type": "display_data",
          "data": {
            "image/png": "[encoded data removed]",
            "text/plain": [
              "<Figure size 432x288 with 3 Axes>"
            ]
          },
          "metadata": {
            "tags": []
          }
        }
      ]
    },
    {
      "cell_type": "code",
      "metadata": {
        "id": "Ch-34m_s7QLU"
      },
      "source": [
        ""
      ],
      "execution_count": null,
      "outputs": []
    }
  ]
}